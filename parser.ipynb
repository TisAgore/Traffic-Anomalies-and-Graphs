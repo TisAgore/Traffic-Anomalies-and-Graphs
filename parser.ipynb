{
 "cells": [
  {
   "cell_type": "code",
   "execution_count": 43,
   "id": "1b0f5bc0-1b39-4290-8931-0bea6b0226a8",
   "metadata": {},
   "outputs": [],
   "source": [
    "import networkx # Для построения графов\n",
    "import pyshark  # Для считывания данных pcap\n",
    "import nest_asyncio # Чтобы jupyter не ругался при создании FileCapture - pyshark использует asyncio, jyputer - тоже, поэтому появляются\n",
    "nest_asyncio.apply()\n"
   ]
  },
  {
   "cell_type": "code",
   "execution_count": 44,
   "id": "e24306b7-c592-4410-b4b4-5bb4b1985eb4",
   "metadata": {},
   "outputs": [],
   "source": [
    "modbus_path = r\"C:\\Users\\bigbl\\OneDrive\\Документы\\УРФУ\\3 семестр\\Проект - Анализ трафика\\Modbus Dataset\\Modbus Dataset\\benign\\ied1a\\ied1a-network-capture\\veth4edc015-normal-4.pcap\"\n",
    "cap = pyshark.FileCapture(modbus_path)\n",
    "\n",
    "\n"
   ]
  },
  {
   "cell_type": "code",
   "execution_count": 54,
   "id": "e8944bad-eccd-4eb2-9cf2-7fa6968bd43a",
   "metadata": {},
   "outputs": [
    {
     "name": "stdout",
     "output_type": "stream",
     "text": [
      "Source IP:  185.175.0.3\n",
      "Destination IP:  185.175.0.4\n",
      "Protocol:  TCP\n",
      "-------------------------------------------\n",
      "Packet (Length: 66)\n",
      "Layer ETH\n",
      ":\tDestination: 02:42:b9:af:00:04\n",
      "\t.... ..1. .... .... .... .... = LG bit: Locally administered address (this is NOT the factory default)\n",
      "\t.... ...0 .... .... .... .... = IG bit: Individual address (unicast)\n",
      "\tSource: 02:42:b9:af:00:03\n",
      "\t.... ..1. .... .... .... .... = LG bit: Locally administered address (this is NOT the factory default)\n",
      "\t.... ...0 .... .... .... .... = IG bit: Individual address (unicast)\n",
      "\tType: IPv4 (0x0800)\n",
      "\tStream index: 0\n",
      "Layer IP\n",
      ":\t0100 .... = Version: 4\n",
      "\t.... 0101 = Header Length: 20 bytes (5)\n",
      "\tDifferentiated Services Field: 0x00 (DSCP: CS0, ECN: Not-ECT)\n",
      "\t0000 00.. = Differentiated Services Codepoint: Default (0)\n",
      "\t.... ..00 = Explicit Congestion Notification: Not ECN-Capable Transport (0)\n",
      "\tTotal Length: 52\n",
      "\tIdentification: 0x0000 (0)\n",
      "\t010. .... = Flags: 0x2, Don't fragment\n",
      "\t0... .... = Reserved bit: Not set\n",
      "\t.1.. .... = Don't fragment: Set\n",
      "\t..0. .... = More fragments: Not set\n",
      "\t...0 0000 0000 0000 = Fragment Offset: 0\n",
      "\tTime to Live: 64\n",
      "\tProtocol: TCP (6)\n",
      "\tHeader Checksum: 0xc75e [validation disabled]\n",
      "\tHeader checksum status: Unverified\n",
      "\tSource Address: 185.175.0.3\n",
      "\tDestination Address: 185.175.0.4\n",
      "\tStream index: 0\n",
      "Layer TCP\n",
      ":\tSource Port: 51094\n",
      "\tDestination Port: 502\n",
      "\tStream index: 0\n",
      "\tConversation completeness: Incomplete (0)\n",
      "\t..0. .... = RST: Absent\n",
      "\t...0 .... = FIN: Absent\n",
      "\t.... 0... = Data: Absent\n",
      "\t.... .0.. = ACK: Absent\n",
      "\t.... ..0. = SYN-ACK: Absent\n",
      "\t.... ...0 = SYN: Absent\n",
      "\tCompleteness Flags: [ Null ]\n",
      "\tTCP Segment Len: 0\n",
      "\tSequence Number: 1    (relative sequence number)\n",
      "\tSequence Number (raw): 1058610258\n",
      "\tNext Sequence Number: 1    (relative sequence number)\n",
      "\tAcknowledgment Number: 1    (relative ack number)\n",
      "\tAcknowledgment number (raw): 2471799078\n",
      "\t1000 .... = Header Length: 32 bytes (8)\n",
      "\tFlags: 0x010 (ACK)\n",
      "\t000. .... .... = Reserved: Not set\n",
      "\t...0 .... .... = Accurate ECN: Not set\n",
      "\t.... 0... .... = Congestion Window Reduced: Not set\n",
      "\t.... .0.. .... = ECN-Echo: Not set\n",
      "\t.... ..0. .... = Urgent: Not set\n",
      "\t.... ...1 .... = Acknowledgment: Set\n",
      "\t.... .... 0... = Push: Not set\n",
      "\t.... .... .0.. = Reset: Not set\n",
      "\t.... .... ..0. = Syn: Not set\n",
      "\t.... .... ...0 = Fin: Not set\n",
      "\tTCP Flags: ·······A····\n",
      "\tWindow: 502\n",
      "\tCalculated window size: 502\n",
      "\tWindow size scaling factor: -1 (unknown)\n",
      "\tChecksum: 0x1da0 [unverified]\n",
      "\tChecksum Status: Unverified\n",
      "\tUrgent Pointer: 0\n",
      "\tOptions: (12 bytes), No-Operation (NOP), No-Operation (NOP), Timestamps\n",
      "\tTCP Option - No-Operation (NOP)\n",
      "\tKind: No-Operation (1)\n",
      "\tTCP Option - Timestamps: TSval 4197859519, TSecr 1694360154\n",
      "\tLength: 10\n",
      "\tTimestamp value: 4197859519\n",
      "\tTimestamp echo reply: 1694360154\n",
      "\tTimestamps\n",
      "\tTime since first frame in this TCP stream: 0.000000000 seconds\n",
      "\tTime since previous frame in this TCP stream: 0.000000000 seconds\n",
      "\tTCP Option - No-Operation (NOP)\n",
      "\tKind: No-Operation (1)\n",
      "\tKind: Time Stamp Option (8)\n",
      "\n"
     ]
    }
   ],
   "source": [
    "for packet in cap:\n",
    "    print('Source IP: ', packet.ip.src)\n",
    "    print('Destination IP: ', packet.ip.dst)\n",
    "    print('Protocol: ', packet.transport_layer)\n",
    "    print('-------------------------------------------')\n",
    "    print(packet)\n",
    "    break"
   ]
  },
  {
   "cell_type": "code",
   "execution_count": null,
   "id": "a760802a-69f1-470f-b2ef-cd5c095adfbd",
   "metadata": {},
   "outputs": [],
   "source": []
  }
 ],
 "metadata": {
  "kernelspec": {
   "display_name": "Python 3 (ipykernel)",
   "language": "python",
   "name": "python3"
  },
  "language_info": {
   "codemirror_mode": {
    "name": "ipython",
    "version": 3
   },
   "file_extension": ".py",
   "mimetype": "text/x-python",
   "name": "python",
   "nbconvert_exporter": "python",
   "pygments_lexer": "ipython3",
   "version": "3.11.7"
  }
 },
 "nbformat": 4,
 "nbformat_minor": 5
}
